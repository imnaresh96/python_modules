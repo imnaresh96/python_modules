{
 "cells": [
  {
   "cell_type": "code",
   "execution_count": 3,
   "id": "b7a795a9",
   "metadata": {},
   "outputs": [],
   "source": [
    "def number(*num):\n",
    "    odd=[]\n",
    "    even=[]\n",
    "    for i in num:\n",
    "        if i%2==0:\n",
    "            even.append(i)\n",
    "        else:\n",
    "            odd.append(i)\n",
    "    else:\n",
    "        print(f'odd= {odd} ')\n",
    "        print(f'even={even}')"
   ]
  },
  {
   "cell_type": "code",
   "execution_count": 4,
   "id": "1b0c5ab7",
   "metadata": {},
   "outputs": [
    {
     "name": "stdout",
     "output_type": "stream",
     "text": [
      "odd= [5, 9, 5] \n",
      "even=[4, 6, 8, 74]\n"
     ]
    }
   ],
   "source": [
    "number(5,4,6,9,8,5,74)"
   ]
  },
  {
   "cell_type": "code",
   "execution_count": null,
   "id": "fef3df32",
   "metadata": {},
   "outputs": [],
   "source": []
  }
 ],
 "metadata": {
  "kernelspec": {
   "display_name": "Python 3 (ipykernel)",
   "language": "python",
   "name": "python3"
  },
  "language_info": {
   "codemirror_mode": {
    "name": "ipython",
    "version": 3
   },
   "file_extension": ".py",
   "mimetype": "text/x-python",
   "name": "python",
   "nbconvert_exporter": "python",
   "pygments_lexer": "ipython3",
   "version": "3.9.12"
  }
 },
 "nbformat": 4,
 "nbformat_minor": 5
}
